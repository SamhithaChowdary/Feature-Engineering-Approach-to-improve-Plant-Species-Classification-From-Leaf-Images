{
 "cells": [
  {
   "cell_type": "code",
   "execution_count": 1,
   "metadata": {
    "collapsed": true
   },
   "outputs": [],
   "source": [
    "import numpy as np\n",
    "import pandas as pd\n",
    "import os\n",
    "import string"
   ]
  },
  {
   "cell_type": "code",
   "execution_count": 2,
   "metadata": {
    "collapsed": true
   },
   "outputs": [],
   "source": [
    "dataset = pd.read_csv(\"Flavia_features.csv\")"
   ]
  },
  {
   "cell_type": "code",
   "execution_count": 3,
   "metadata": {},
   "outputs": [
    {
     "data": {
      "text/html": [
       "<div>\n",
       "<style>\n",
       "    .dataframe thead tr:only-child th {\n",
       "        text-align: right;\n",
       "    }\n",
       "\n",
       "    .dataframe thead th {\n",
       "        text-align: left;\n",
       "    }\n",
       "\n",
       "    .dataframe tbody tr th {\n",
       "        vertical-align: top;\n",
       "    }\n",
       "</style>\n",
       "<table border=\"1\" class=\"dataframe\">\n",
       "  <thead>\n",
       "    <tr style=\"text-align: right;\">\n",
       "      <th></th>\n",
       "      <th>Unnamed: 0</th>\n",
       "      <th>area</th>\n",
       "      <th>perimeter</th>\n",
       "      <th>physiological_length</th>\n",
       "      <th>physiological_width</th>\n",
       "      <th>aspect_ratio</th>\n",
       "      <th>rectangularity</th>\n",
       "      <th>circularity</th>\n",
       "      <th>mean_r</th>\n",
       "      <th>mean_g</th>\n",
       "      <th>mean_b</th>\n",
       "      <th>stddev_r</th>\n",
       "      <th>stddev_g</th>\n",
       "      <th>stddev_b</th>\n",
       "      <th>contrast</th>\n",
       "      <th>correlation</th>\n",
       "      <th>inverse_difference_moments</th>\n",
       "      <th>entropy</th>\n",
       "    </tr>\n",
       "  </thead>\n",
       "  <tbody>\n",
       "    <tr>\n",
       "      <th>0</th>\n",
       "      <td>0</td>\n",
       "      <td>197484.0</td>\n",
       "      <td>3479.036038</td>\n",
       "      <td>1416</td>\n",
       "      <td>759</td>\n",
       "      <td>1.865613</td>\n",
       "      <td>5.442183</td>\n",
       "      <td>61.289480</td>\n",
       "      <td>6.395667</td>\n",
       "      <td>13.643413</td>\n",
       "      <td>4.388007</td>\n",
       "      <td>24.025329</td>\n",
       "      <td>40.200931</td>\n",
       "      <td>21.448412</td>\n",
       "      <td>12.639656</td>\n",
       "      <td>0.997666</td>\n",
       "      <td>0.911738</td>\n",
       "      <td>1.688689</td>\n",
       "    </tr>\n",
       "    <tr>\n",
       "      <th>1</th>\n",
       "      <td>0</td>\n",
       "      <td>101248.0</td>\n",
       "      <td>2490.381812</td>\n",
       "      <td>1190</td>\n",
       "      <td>130</td>\n",
       "      <td>9.153846</td>\n",
       "      <td>1.527931</td>\n",
       "      <td>61.255546</td>\n",
       "      <td>7.049316</td>\n",
       "      <td>9.232018</td>\n",
       "      <td>10.876066</td>\n",
       "      <td>33.816205</td>\n",
       "      <td>37.382221</td>\n",
       "      <td>46.479230</td>\n",
       "      <td>8.137424</td>\n",
       "      <td>0.997191</td>\n",
       "      <td>0.944818</td>\n",
       "      <td>1.193795</td>\n",
       "    </tr>\n",
       "    <tr>\n",
       "      <th>2</th>\n",
       "      <td>0</td>\n",
       "      <td>86570.5</td>\n",
       "      <td>2290.683327</td>\n",
       "      <td>1095</td>\n",
       "      <td>119</td>\n",
       "      <td>9.201681</td>\n",
       "      <td>1.505189</td>\n",
       "      <td>60.612219</td>\n",
       "      <td>3.434303</td>\n",
       "      <td>6.371511</td>\n",
       "      <td>2.644757</td>\n",
       "      <td>19.975699</td>\n",
       "      <td>29.057374</td>\n",
       "      <td>19.275050</td>\n",
       "      <td>8.553729</td>\n",
       "      <td>0.996610</td>\n",
       "      <td>0.959023</td>\n",
       "      <td>0.848758</td>\n",
       "    </tr>\n",
       "    <tr>\n",
       "      <th>3</th>\n",
       "      <td>0</td>\n",
       "      <td>190214.0</td>\n",
       "      <td>2856.479353</td>\n",
       "      <td>1318</td>\n",
       "      <td>254</td>\n",
       "      <td>5.188976</td>\n",
       "      <td>1.759976</td>\n",
       "      <td>42.896287</td>\n",
       "      <td>7.670415</td>\n",
       "      <td>13.303599</td>\n",
       "      <td>6.049157</td>\n",
       "      <td>28.822885</td>\n",
       "      <td>40.221845</td>\n",
       "      <td>26.948604</td>\n",
       "      <td>8.440041</td>\n",
       "      <td>0.998419</td>\n",
       "      <td>0.914331</td>\n",
       "      <td>1.673915</td>\n",
       "    </tr>\n",
       "    <tr>\n",
       "      <th>4</th>\n",
       "      <td>0</td>\n",
       "      <td>227727.0</td>\n",
       "      <td>2917.248904</td>\n",
       "      <td>1324</td>\n",
       "      <td>286</td>\n",
       "      <td>4.629371</td>\n",
       "      <td>1.662798</td>\n",
       "      <td>37.370804</td>\n",
       "      <td>8.992028</td>\n",
       "      <td>16.671171</td>\n",
       "      <td>6.294281</td>\n",
       "      <td>30.967158</td>\n",
       "      <td>45.040192</td>\n",
       "      <td>28.595326</td>\n",
       "      <td>8.641438</td>\n",
       "      <td>0.998568</td>\n",
       "      <td>0.898644</td>\n",
       "      <td>1.968082</td>\n",
       "    </tr>\n",
       "  </tbody>\n",
       "</table>\n",
       "</div>"
      ],
      "text/plain": [
       "   Unnamed: 0      area    perimeter  physiological_length  \\\n",
       "0           0  197484.0  3479.036038                  1416   \n",
       "1           0  101248.0  2490.381812                  1190   \n",
       "2           0   86570.5  2290.683327                  1095   \n",
       "3           0  190214.0  2856.479353                  1318   \n",
       "4           0  227727.0  2917.248904                  1324   \n",
       "\n",
       "   physiological_width  aspect_ratio  rectangularity  circularity    mean_r  \\\n",
       "0                  759      1.865613        5.442183    61.289480  6.395667   \n",
       "1                  130      9.153846        1.527931    61.255546  7.049316   \n",
       "2                  119      9.201681        1.505189    60.612219  3.434303   \n",
       "3                  254      5.188976        1.759976    42.896287  7.670415   \n",
       "4                  286      4.629371        1.662798    37.370804  8.992028   \n",
       "\n",
       "      mean_g     mean_b   stddev_r   stddev_g   stddev_b   contrast  \\\n",
       "0  13.643413   4.388007  24.025329  40.200931  21.448412  12.639656   \n",
       "1   9.232018  10.876066  33.816205  37.382221  46.479230   8.137424   \n",
       "2   6.371511   2.644757  19.975699  29.057374  19.275050   8.553729   \n",
       "3  13.303599   6.049157  28.822885  40.221845  26.948604   8.440041   \n",
       "4  16.671171   6.294281  30.967158  45.040192  28.595326   8.641438   \n",
       "\n",
       "   correlation  inverse_difference_moments   entropy  \n",
       "0     0.997666                    0.911738  1.688689  \n",
       "1     0.997191                    0.944818  1.193795  \n",
       "2     0.996610                    0.959023  0.848758  \n",
       "3     0.998419                    0.914331  1.673915  \n",
       "4     0.998568                    0.898644  1.968082  "
      ]
     },
     "execution_count": 3,
     "metadata": {},
     "output_type": "execute_result"
    }
   ],
   "source": [
    "dataset.head(5)"
   ]
  },
  {
   "cell_type": "code",
   "execution_count": 4,
   "metadata": {},
   "outputs": [
    {
     "data": {
      "text/plain": [
       "pandas.core.frame.DataFrame"
      ]
     },
     "execution_count": 4,
     "metadata": {},
     "output_type": "execute_result"
    }
   ],
   "source": [
    "type(dataset)"
   ]
  },
  {
   "cell_type": "code",
   "execution_count": 5,
   "metadata": {
    "collapsed": true
   },
   "outputs": [],
   "source": [
    "maindir = r'C:\\Users\\Apurv\\Desktop\\Plant-Leaf-Identification-master'\n",
    "ds_path = maindir + \"\\\\Leaves\"\n",
    "img_files = os.listdir(ds_path)"
   ]
  },
  {
   "cell_type": "code",
   "execution_count": 6,
   "metadata": {
    "collapsed": true
   },
   "outputs": [],
   "source": [
    "breakpoints = [1001,1059,1060,1122,1552,1616,1123,1194,1195,1267,1268,1323,1324,1385,1386,1437,1497,1551,1438,1496,2001,2050,2051,2113,2114,2165,2166,2230,2231,2290,2291,2346,2347,2423,2424,2485,2486,2546,2547,2612,2616,2675,3001,3055,3056,3110,3111,3175,3176,3229,3230,3281,3282,3334,3335,3389,3390,3446,3447,3510,3511,3563,3566,3621]"
   ]
  },
  {
   "cell_type": "code",
   "execution_count": 7,
   "metadata": {
    "collapsed": true
   },
   "outputs": [],
   "source": [
    "target_list = []\n",
    "for file in img_files:\n",
    "    target_num = int(file.split(\".\")[0])\n",
    "    flag = 0\n",
    "    i = 0 \n",
    "    for i in range(0,len(breakpoints),2):\n",
    "        if((target_num >= breakpoints[i]) and (target_num <= breakpoints[i+1])):\n",
    "            flag = 1\n",
    "            break\n",
    "    if(flag==1):\n",
    "        target = int((i/2))\n",
    "        target_list.append(target)"
   ]
  },
  {
   "cell_type": "code",
   "execution_count": 8,
   "metadata": {},
   "outputs": [
    {
     "data": {
      "text/plain": [
       "array([ 0,  0,  0, ..., 31, 31, 31])"
      ]
     },
     "execution_count": 8,
     "metadata": {},
     "output_type": "execute_result"
    }
   ],
   "source": [
    "y = np.array(target_list)\n",
    "y"
   ]
  },
  {
   "cell_type": "code",
   "execution_count": 9,
   "metadata": {
    "collapsed": true
   },
   "outputs": [],
   "source": [
    "X = dataset.iloc[:,1:]"
   ]
  },
  {
   "cell_type": "code",
   "execution_count": 10,
   "metadata": {},
   "outputs": [
    {
     "data": {
      "text/html": [
       "<div>\n",
       "<style>\n",
       "    .dataframe thead tr:only-child th {\n",
       "        text-align: right;\n",
       "    }\n",
       "\n",
       "    .dataframe thead th {\n",
       "        text-align: left;\n",
       "    }\n",
       "\n",
       "    .dataframe tbody tr th {\n",
       "        vertical-align: top;\n",
       "    }\n",
       "</style>\n",
       "<table border=\"1\" class=\"dataframe\">\n",
       "  <thead>\n",
       "    <tr style=\"text-align: right;\">\n",
       "      <th></th>\n",
       "      <th>area</th>\n",
       "      <th>perimeter</th>\n",
       "      <th>physiological_length</th>\n",
       "      <th>physiological_width</th>\n",
       "      <th>aspect_ratio</th>\n",
       "      <th>rectangularity</th>\n",
       "      <th>circularity</th>\n",
       "      <th>mean_r</th>\n",
       "      <th>mean_g</th>\n",
       "      <th>mean_b</th>\n",
       "      <th>stddev_r</th>\n",
       "      <th>stddev_g</th>\n",
       "      <th>stddev_b</th>\n",
       "      <th>contrast</th>\n",
       "      <th>correlation</th>\n",
       "      <th>inverse_difference_moments</th>\n",
       "      <th>entropy</th>\n",
       "    </tr>\n",
       "  </thead>\n",
       "  <tbody>\n",
       "    <tr>\n",
       "      <th>0</th>\n",
       "      <td>197484.0</td>\n",
       "      <td>3479.036038</td>\n",
       "      <td>1416</td>\n",
       "      <td>759</td>\n",
       "      <td>1.865613</td>\n",
       "      <td>5.442183</td>\n",
       "      <td>61.289480</td>\n",
       "      <td>6.395667</td>\n",
       "      <td>13.643413</td>\n",
       "      <td>4.388007</td>\n",
       "      <td>24.025329</td>\n",
       "      <td>40.200931</td>\n",
       "      <td>21.448412</td>\n",
       "      <td>12.639656</td>\n",
       "      <td>0.997666</td>\n",
       "      <td>0.911738</td>\n",
       "      <td>1.688689</td>\n",
       "    </tr>\n",
       "    <tr>\n",
       "      <th>1</th>\n",
       "      <td>101248.0</td>\n",
       "      <td>2490.381812</td>\n",
       "      <td>1190</td>\n",
       "      <td>130</td>\n",
       "      <td>9.153846</td>\n",
       "      <td>1.527931</td>\n",
       "      <td>61.255546</td>\n",
       "      <td>7.049316</td>\n",
       "      <td>9.232018</td>\n",
       "      <td>10.876066</td>\n",
       "      <td>33.816205</td>\n",
       "      <td>37.382221</td>\n",
       "      <td>46.479230</td>\n",
       "      <td>8.137424</td>\n",
       "      <td>0.997191</td>\n",
       "      <td>0.944818</td>\n",
       "      <td>1.193795</td>\n",
       "    </tr>\n",
       "    <tr>\n",
       "      <th>2</th>\n",
       "      <td>86570.5</td>\n",
       "      <td>2290.683327</td>\n",
       "      <td>1095</td>\n",
       "      <td>119</td>\n",
       "      <td>9.201681</td>\n",
       "      <td>1.505189</td>\n",
       "      <td>60.612219</td>\n",
       "      <td>3.434303</td>\n",
       "      <td>6.371511</td>\n",
       "      <td>2.644757</td>\n",
       "      <td>19.975699</td>\n",
       "      <td>29.057374</td>\n",
       "      <td>19.275050</td>\n",
       "      <td>8.553729</td>\n",
       "      <td>0.996610</td>\n",
       "      <td>0.959023</td>\n",
       "      <td>0.848758</td>\n",
       "    </tr>\n",
       "    <tr>\n",
       "      <th>3</th>\n",
       "      <td>190214.0</td>\n",
       "      <td>2856.479353</td>\n",
       "      <td>1318</td>\n",
       "      <td>254</td>\n",
       "      <td>5.188976</td>\n",
       "      <td>1.759976</td>\n",
       "      <td>42.896287</td>\n",
       "      <td>7.670415</td>\n",
       "      <td>13.303599</td>\n",
       "      <td>6.049157</td>\n",
       "      <td>28.822885</td>\n",
       "      <td>40.221845</td>\n",
       "      <td>26.948604</td>\n",
       "      <td>8.440041</td>\n",
       "      <td>0.998419</td>\n",
       "      <td>0.914331</td>\n",
       "      <td>1.673915</td>\n",
       "    </tr>\n",
       "    <tr>\n",
       "      <th>4</th>\n",
       "      <td>227727.0</td>\n",
       "      <td>2917.248904</td>\n",
       "      <td>1324</td>\n",
       "      <td>286</td>\n",
       "      <td>4.629371</td>\n",
       "      <td>1.662798</td>\n",
       "      <td>37.370804</td>\n",
       "      <td>8.992028</td>\n",
       "      <td>16.671171</td>\n",
       "      <td>6.294281</td>\n",
       "      <td>30.967158</td>\n",
       "      <td>45.040192</td>\n",
       "      <td>28.595326</td>\n",
       "      <td>8.641438</td>\n",
       "      <td>0.998568</td>\n",
       "      <td>0.898644</td>\n",
       "      <td>1.968082</td>\n",
       "    </tr>\n",
       "  </tbody>\n",
       "</table>\n",
       "</div>"
      ],
      "text/plain": [
       "       area    perimeter  physiological_length  physiological_width  \\\n",
       "0  197484.0  3479.036038                  1416                  759   \n",
       "1  101248.0  2490.381812                  1190                  130   \n",
       "2   86570.5  2290.683327                  1095                  119   \n",
       "3  190214.0  2856.479353                  1318                  254   \n",
       "4  227727.0  2917.248904                  1324                  286   \n",
       "\n",
       "   aspect_ratio  rectangularity  circularity    mean_r     mean_g     mean_b  \\\n",
       "0      1.865613        5.442183    61.289480  6.395667  13.643413   4.388007   \n",
       "1      9.153846        1.527931    61.255546  7.049316   9.232018  10.876066   \n",
       "2      9.201681        1.505189    60.612219  3.434303   6.371511   2.644757   \n",
       "3      5.188976        1.759976    42.896287  7.670415  13.303599   6.049157   \n",
       "4      4.629371        1.662798    37.370804  8.992028  16.671171   6.294281   \n",
       "\n",
       "    stddev_r   stddev_g   stddev_b   contrast  correlation  \\\n",
       "0  24.025329  40.200931  21.448412  12.639656     0.997666   \n",
       "1  33.816205  37.382221  46.479230   8.137424     0.997191   \n",
       "2  19.975699  29.057374  19.275050   8.553729     0.996610   \n",
       "3  28.822885  40.221845  26.948604   8.440041     0.998419   \n",
       "4  30.967158  45.040192  28.595326   8.641438     0.998568   \n",
       "\n",
       "   inverse_difference_moments   entropy  \n",
       "0                    0.911738  1.688689  \n",
       "1                    0.944818  1.193795  \n",
       "2                    0.959023  0.848758  \n",
       "3                    0.914331  1.673915  \n",
       "4                    0.898644  1.968082  "
      ]
     },
     "execution_count": 10,
     "metadata": {},
     "output_type": "execute_result"
    }
   ],
   "source": [
    "X.head(5)"
   ]
  },
  {
   "cell_type": "code",
   "execution_count": 11,
   "metadata": {},
   "outputs": [
    {
     "data": {
      "text/plain": [
       "array([0, 0, 0, 0, 0])"
      ]
     },
     "execution_count": 11,
     "metadata": {},
     "output_type": "execute_result"
    }
   ],
   "source": [
    "y[0:5]"
   ]
  },
  {
   "cell_type": "markdown",
   "metadata": {},
   "source": [
    "<strong>Train test split for all features</strong>"
   ]
  },
  {
   "cell_type": "code",
   "execution_count": 12,
   "metadata": {
    "collapsed": true
   },
   "outputs": [],
   "source": [
    "from sklearn.model_selection import train_test_split"
   ]
  },
  {
   "cell_type": "code",
   "execution_count": 13,
   "metadata": {
    "collapsed": true
   },
   "outputs": [],
   "source": [
    "X_train, X_test, y_train, y_test = train_test_split(X, y, test_size=0.3, random_state = 101)"
   ]
  },
  {
   "cell_type": "code",
   "execution_count": 14,
   "metadata": {},
   "outputs": [
    {
     "data": {
      "text/html": [
       "<div>\n",
       "<style>\n",
       "    .dataframe thead tr:only-child th {\n",
       "        text-align: right;\n",
       "    }\n",
       "\n",
       "    .dataframe thead th {\n",
       "        text-align: left;\n",
       "    }\n",
       "\n",
       "    .dataframe tbody tr th {\n",
       "        vertical-align: top;\n",
       "    }\n",
       "</style>\n",
       "<table border=\"1\" class=\"dataframe\">\n",
       "  <thead>\n",
       "    <tr style=\"text-align: right;\">\n",
       "      <th></th>\n",
       "      <th>area</th>\n",
       "      <th>perimeter</th>\n",
       "      <th>physiological_length</th>\n",
       "      <th>physiological_width</th>\n",
       "      <th>aspect_ratio</th>\n",
       "      <th>rectangularity</th>\n",
       "      <th>circularity</th>\n",
       "      <th>mean_r</th>\n",
       "      <th>mean_g</th>\n",
       "      <th>mean_b</th>\n",
       "      <th>stddev_r</th>\n",
       "      <th>stddev_g</th>\n",
       "      <th>stddev_b</th>\n",
       "      <th>contrast</th>\n",
       "      <th>correlation</th>\n",
       "      <th>inverse_difference_moments</th>\n",
       "      <th>entropy</th>\n",
       "    </tr>\n",
       "  </thead>\n",
       "  <tbody>\n",
       "    <tr>\n",
       "      <th>1631</th>\n",
       "      <td>729686.0</td>\n",
       "      <td>3886.335464</td>\n",
       "      <td>1389</td>\n",
       "      <td>846</td>\n",
       "      <td>1.641844</td>\n",
       "      <td>1.610411</td>\n",
       "      <td>20.698771</td>\n",
       "      <td>33.567848</td>\n",
       "      <td>54.215674</td>\n",
       "      <td>26.634711</td>\n",
       "      <td>50.965501</td>\n",
       "      <td>69.779415</td>\n",
       "      <td>44.707377</td>\n",
       "      <td>22.219394</td>\n",
       "      <td>0.997900</td>\n",
       "      <td>0.685958</td>\n",
       "      <td>5.617390</td>\n",
       "    </tr>\n",
       "    <tr>\n",
       "      <th>1660</th>\n",
       "      <td>994627.5</td>\n",
       "      <td>4539.975080</td>\n",
       "      <td>1480</td>\n",
       "      <td>1019</td>\n",
       "      <td>1.452404</td>\n",
       "      <td>1.516266</td>\n",
       "      <td>20.722706</td>\n",
       "      <td>43.836573</td>\n",
       "      <td>72.163649</td>\n",
       "      <td>38.918115</td>\n",
       "      <td>47.995353</td>\n",
       "      <td>70.903447</td>\n",
       "      <td>45.591118</td>\n",
       "      <td>34.870738</td>\n",
       "      <td>0.996770</td>\n",
       "      <td>0.582516</td>\n",
       "      <td>7.086336</td>\n",
       "    </tr>\n",
       "    <tr>\n",
       "      <th>1185</th>\n",
       "      <td>361116.5</td>\n",
       "      <td>3904.929605</td>\n",
       "      <td>1484</td>\n",
       "      <td>1046</td>\n",
       "      <td>1.418738</td>\n",
       "      <td>4.298513</td>\n",
       "      <td>42.225917</td>\n",
       "      <td>16.965918</td>\n",
       "      <td>27.130965</td>\n",
       "      <td>12.713408</td>\n",
       "      <td>38.416758</td>\n",
       "      <td>56.432744</td>\n",
       "      <td>30.061882</td>\n",
       "      <td>21.361395</td>\n",
       "      <td>0.996807</td>\n",
       "      <td>0.831672</td>\n",
       "      <td>2.966483</td>\n",
       "    </tr>\n",
       "    <tr>\n",
       "      <th>1569</th>\n",
       "      <td>470603.5</td>\n",
       "      <td>4071.735401</td>\n",
       "      <td>1192</td>\n",
       "      <td>1026</td>\n",
       "      <td>1.161793</td>\n",
       "      <td>2.598774</td>\n",
       "      <td>35.229294</td>\n",
       "      <td>17.083841</td>\n",
       "      <td>30.583524</td>\n",
       "      <td>13.762535</td>\n",
       "      <td>33.825075</td>\n",
       "      <td>54.234714</td>\n",
       "      <td>29.265617</td>\n",
       "      <td>22.467258</td>\n",
       "      <td>0.997705</td>\n",
       "      <td>0.791704</td>\n",
       "      <td>3.613292</td>\n",
       "    </tr>\n",
       "    <tr>\n",
       "      <th>361</th>\n",
       "      <td>529220.5</td>\n",
       "      <td>3752.959910</td>\n",
       "      <td>1373</td>\n",
       "      <td>947</td>\n",
       "      <td>1.449842</td>\n",
       "      <td>2.456880</td>\n",
       "      <td>26.614064</td>\n",
       "      <td>25.900596</td>\n",
       "      <td>45.732787</td>\n",
       "      <td>20.041008</td>\n",
       "      <td>43.401397</td>\n",
       "      <td>73.570145</td>\n",
       "      <td>34.390136</td>\n",
       "      <td>20.173406</td>\n",
       "      <td>0.996913</td>\n",
       "      <td>0.768729</td>\n",
       "      <td>3.864796</td>\n",
       "    </tr>\n",
       "  </tbody>\n",
       "</table>\n",
       "</div>"
      ],
      "text/plain": [
       "          area    perimeter  physiological_length  physiological_width  \\\n",
       "1631  729686.0  3886.335464                  1389                  846   \n",
       "1660  994627.5  4539.975080                  1480                 1019   \n",
       "1185  361116.5  3904.929605                  1484                 1046   \n",
       "1569  470603.5  4071.735401                  1192                 1026   \n",
       "361   529220.5  3752.959910                  1373                  947   \n",
       "\n",
       "      aspect_ratio  rectangularity  circularity     mean_r     mean_g  \\\n",
       "1631      1.641844        1.610411    20.698771  33.567848  54.215674   \n",
       "1660      1.452404        1.516266    20.722706  43.836573  72.163649   \n",
       "1185      1.418738        4.298513    42.225917  16.965918  27.130965   \n",
       "1569      1.161793        2.598774    35.229294  17.083841  30.583524   \n",
       "361       1.449842        2.456880    26.614064  25.900596  45.732787   \n",
       "\n",
       "         mean_b   stddev_r   stddev_g   stddev_b   contrast  correlation  \\\n",
       "1631  26.634711  50.965501  69.779415  44.707377  22.219394     0.997900   \n",
       "1660  38.918115  47.995353  70.903447  45.591118  34.870738     0.996770   \n",
       "1185  12.713408  38.416758  56.432744  30.061882  21.361395     0.996807   \n",
       "1569  13.762535  33.825075  54.234714  29.265617  22.467258     0.997705   \n",
       "361   20.041008  43.401397  73.570145  34.390136  20.173406     0.996913   \n",
       "\n",
       "      inverse_difference_moments   entropy  \n",
       "1631                    0.685958  5.617390  \n",
       "1660                    0.582516  7.086336  \n",
       "1185                    0.831672  2.966483  \n",
       "1569                    0.791704  3.613292  \n",
       "361                     0.768729  3.864796  "
      ]
     },
     "execution_count": 14,
     "metadata": {},
     "output_type": "execute_result"
    }
   ],
   "source": [
    "X_train.head(5)"
   ]
  },
  {
   "cell_type": "code",
   "execution_count": 15,
   "metadata": {},
   "outputs": [
    {
     "data": {
      "text/plain": [
       "array([27, 27, 19, 26,  6])"
      ]
     },
     "execution_count": 15,
     "metadata": {},
     "output_type": "execute_result"
    }
   ],
   "source": [
    "y_train[0:5]"
   ]
  },
  {
   "cell_type": "markdown",
   "metadata": {},
   "source": [
    "<strong>Feature Scaling</strong>"
   ]
  },
  {
   "cell_type": "code",
   "execution_count": 17,
   "metadata": {
    "collapsed": true
   },
   "outputs": [],
   "source": [
    "from sklearn.preprocessing import StandardScaler"
   ]
  },
  {
   "cell_type": "code",
   "execution_count": 19,
   "metadata": {},
   "outputs": [],
   "source": [
    "sc_X = StandardScaler()\n",
    "X_train = sc_X.fit_transform(X_train)\n",
    "X_test = sc_X.transform(X_test)"
   ]
  },
  {
   "cell_type": "code",
   "execution_count": 20,
   "metadata": {},
   "outputs": [
    {
     "data": {
      "text/plain": [
       "array([[ 0.5032667 ,  0.19595811,  0.31927645, -0.12605708,  0.06094499,\n",
       "        -0.30389685, -0.31496333, -0.09238901, -0.1497378 , -0.04935685,\n",
       "         0.28097275,  0.01396643,  0.30285399, -0.1966145 ,  0.56005967,\n",
       "        -0.59073656,  0.71875051],\n",
       "       [ 1.50963864,  1.01444813,  0.68968314,  0.59713147, -0.25590958,\n",
       "        -0.32474626, -0.31441206,  0.16606892,  0.23905136,  0.27298602,\n",
       "         0.10275323,  0.07872698,  0.34532199,  0.28138394,  0.01977377,\n",
       "        -1.62116252,  1.62487495]])"
      ]
     },
     "execution_count": 20,
     "metadata": {},
     "output_type": "execute_result"
    }
   ],
   "source": [
    "X_train[0:2]"
   ]
  },
  {
   "cell_type": "code",
   "execution_count": 21,
   "metadata": {},
   "outputs": [
    {
     "data": {
      "text/plain": [
       "array([27, 27])"
      ]
     },
     "execution_count": 21,
     "metadata": {},
     "output_type": "execute_result"
    }
   ],
   "source": [
    "y_train[0:2]"
   ]
  },
  {
   "cell_type": "markdown",
   "metadata": {},
   "source": [
    "<strong>SVM Classifier</strong>"
   ]
  },
  {
   "cell_type": "code",
   "execution_count": 22,
   "metadata": {
    "collapsed": true
   },
   "outputs": [],
   "source": [
    "from sklearn import svm"
   ]
  },
  {
   "cell_type": "code",
   "execution_count": 23,
   "metadata": {},
   "outputs": [
    {
     "data": {
      "text/plain": [
       "SVC(C=1.0, cache_size=200, class_weight=None, coef0=0.0,\n",
       "  decision_function_shape=None, degree=3, gamma='auto', kernel='rbf',\n",
       "  max_iter=-1, probability=False, random_state=None, shrinking=True,\n",
       "  tol=0.001, verbose=False)"
      ]
     },
     "execution_count": 23,
     "metadata": {},
     "output_type": "execute_result"
    }
   ],
   "source": [
    "clf = svm.SVC()\n",
    "clf.fit(X_train,y_train)"
   ]
  },
  {
   "cell_type": "code",
   "execution_count": 24,
   "metadata": {
    "collapsed": true
   },
   "outputs": [],
   "source": [
    "y_pred = clf.predict(X_test)"
   ]
  },
  {
   "cell_type": "code",
   "execution_count": 25,
   "metadata": {
    "collapsed": true
   },
   "outputs": [],
   "source": [
    "from sklearn import metrics"
   ]
  },
  {
   "cell_type": "code",
   "execution_count": 26,
   "metadata": {},
   "outputs": [
    {
     "data": {
      "text/plain": [
       "0.80279232111692844"
      ]
     },
     "execution_count": 26,
     "metadata": {},
     "output_type": "execute_result"
    }
   ],
   "source": [
    "metrics.accuracy_score(y_test, y_pred)"
   ]
  },
  {
   "cell_type": "code",
   "execution_count": 27,
   "metadata": {},
   "outputs": [
    {
     "name": "stdout",
     "output_type": "stream",
     "text": [
      "             precision    recall  f1-score   support\n",
      "\n",
      "          0       0.71      0.53      0.61        19\n",
      "          1       0.52      0.72      0.60        18\n",
      "          2       0.83      1.00      0.91        15\n",
      "          3       0.94      1.00      0.97        30\n",
      "          4       0.92      0.96      0.94        23\n",
      "          5       0.92      1.00      0.96        11\n",
      "          6       0.71      1.00      0.83        22\n",
      "          7       0.78      1.00      0.88         7\n",
      "          8       0.60      0.38      0.46        16\n",
      "          9       1.00      0.89      0.94        19\n",
      "         10       0.60      1.00      0.75        12\n",
      "         11       0.69      0.73      0.71        15\n",
      "         12       0.68      0.62      0.65        21\n",
      "         13       0.82      0.74      0.78        19\n",
      "         14       1.00      0.32      0.48        19\n",
      "         15       0.50      0.20      0.29        15\n",
      "         16       1.00      1.00      1.00        25\n",
      "         17       0.87      1.00      0.93        20\n",
      "         18       0.89      0.85      0.87        20\n",
      "         19       0.86      1.00      0.93        25\n",
      "         20       0.78      0.82      0.80        17\n",
      "         21       0.72      0.54      0.62        24\n",
      "         22       0.92      0.85      0.88        13\n",
      "         23       0.76      0.68      0.72        19\n",
      "         24       1.00      0.72      0.84        18\n",
      "         25       0.92      0.79      0.85        14\n",
      "         26       1.00      0.93      0.96        14\n",
      "         27       0.57      0.92      0.71        13\n",
      "         28       0.52      0.88      0.65        16\n",
      "         29       0.94      0.89      0.91        18\n",
      "         30       1.00      0.91      0.95        23\n",
      "         31       0.83      0.77      0.80        13\n",
      "\n",
      "avg / total       0.82      0.80      0.79       573\n",
      "\n"
     ]
    }
   ],
   "source": [
    "print(metrics.classification_report(y_test, y_pred))"
   ]
  },
  {
   "cell_type": "code",
   "execution_count": 28,
   "metadata": {
    "collapsed": true
   },
   "outputs": [],
   "source": [
    "from sklearn.model_selection import GridSearchCV"
   ]
  },
  {
   "cell_type": "code",
   "execution_count": 29,
   "metadata": {
    "collapsed": true
   },
   "outputs": [],
   "source": [
    "parameters = [{'kernel': ['rbf'],\n",
    "               'gamma': [1e-4, 1e-3, 0.01, 0.1, 0.2, 0.5],\n",
    "               'C': [1, 10, 100, 1000]},\n",
    "              {'kernel': ['linear'], 'C': [1, 10, 100, 1000]}\n",
    "             ]"
   ]
  },
  {
   "cell_type": "code",
   "execution_count": 30,
   "metadata": {},
   "outputs": [
    {
     "data": {
      "text/plain": [
       "GridSearchCV(cv=5, error_score='raise',\n",
       "       estimator=SVC(C=1.0, cache_size=200, class_weight=None, coef0=0.0,\n",
       "  decision_function_shape='ovr', degree=3, gamma='auto', kernel='rbf',\n",
       "  max_iter=-1, probability=False, random_state=None, shrinking=True,\n",
       "  tol=0.001, verbose=False),\n",
       "       fit_params={}, iid=True, n_jobs=1,\n",
       "       param_grid=[{'kernel': ['rbf'], 'gamma': [0.0001, 0.001, 0.01, 0.1, 0.2, 0.5], 'C': [1, 10, 100, 1000]}, {'kernel': ['linear'], 'C': [1, 10, 100, 1000]}],\n",
       "       pre_dispatch='2*n_jobs', refit=True, return_train_score=True,\n",
       "       scoring=None, verbose=0)"
      ]
     },
     "execution_count": 30,
     "metadata": {},
     "output_type": "execute_result"
    }
   ],
   "source": [
    "svm_clf = GridSearchCV(svm.SVC(decision_function_shape='ovr'), parameters, cv=5)\n",
    "svm_clf.fit(X_train, y_train)"
   ]
  },
  {
   "cell_type": "code",
   "execution_count": 31,
   "metadata": {},
   "outputs": [
    {
     "data": {
      "text/plain": [
       "{'C': 100, 'kernel': 'linear'}"
      ]
     },
     "execution_count": 31,
     "metadata": {},
     "output_type": "execute_result"
    }
   ],
   "source": [
    "svm_clf.best_params_"
   ]
  },
  {
   "cell_type": "code",
   "execution_count": 32,
   "metadata": {},
   "outputs": [
    {
     "name": "stdout",
     "output_type": "stream",
     "text": [
      "0.039 (+/-0.002) for {'C': 1, 'gamma': 0.0001, 'kernel': 'rbf'}\n",
      "0.212 (+/-0.037) for {'C': 1, 'gamma': 0.001, 'kernel': 'rbf'}\n",
      "0.600 (+/-0.022) for {'C': 1, 'gamma': 0.01, 'kernel': 'rbf'}\n",
      "0.815 (+/-0.028) for {'C': 1, 'gamma': 0.1, 'kernel': 'rbf'}\n",
      "0.829 (+/-0.030) for {'C': 1, 'gamma': 0.2, 'kernel': 'rbf'}\n",
      "0.846 (+/-0.051) for {'C': 1, 'gamma': 0.5, 'kernel': 'rbf'}\n",
      "0.213 (+/-0.039) for {'C': 10, 'gamma': 0.0001, 'kernel': 'rbf'}\n",
      "0.600 (+/-0.023) for {'C': 10, 'gamma': 0.001, 'kernel': 'rbf'}\n",
      "0.824 (+/-0.027) for {'C': 10, 'gamma': 0.01, 'kernel': 'rbf'}\n",
      "0.880 (+/-0.040) for {'C': 10, 'gamma': 0.1, 'kernel': 'rbf'}\n",
      "0.874 (+/-0.039) for {'C': 10, 'gamma': 0.2, 'kernel': 'rbf'}\n",
      "0.860 (+/-0.036) for {'C': 10, 'gamma': 0.5, 'kernel': 'rbf'}\n",
      "0.600 (+/-0.023) for {'C': 100, 'gamma': 0.0001, 'kernel': 'rbf'}\n",
      "0.820 (+/-0.022) for {'C': 100, 'gamma': 0.001, 'kernel': 'rbf'}\n",
      "0.888 (+/-0.036) for {'C': 100, 'gamma': 0.01, 'kernel': 'rbf'}\n",
      "0.872 (+/-0.043) for {'C': 100, 'gamma': 0.1, 'kernel': 'rbf'}\n",
      "0.867 (+/-0.040) for {'C': 100, 'gamma': 0.2, 'kernel': 'rbf'}\n",
      "0.853 (+/-0.039) for {'C': 100, 'gamma': 0.5, 'kernel': 'rbf'}\n",
      "0.814 (+/-0.017) for {'C': 1000, 'gamma': 0.0001, 'kernel': 'rbf'}\n",
      "0.880 (+/-0.028) for {'C': 1000, 'gamma': 0.001, 'kernel': 'rbf'}\n",
      "0.890 (+/-0.024) for {'C': 1000, 'gamma': 0.01, 'kernel': 'rbf'}\n",
      "0.867 (+/-0.039) for {'C': 1000, 'gamma': 0.1, 'kernel': 'rbf'}\n",
      "0.865 (+/-0.035) for {'C': 1000, 'gamma': 0.2, 'kernel': 'rbf'}\n",
      "0.853 (+/-0.039) for {'C': 1000, 'gamma': 0.5, 'kernel': 'rbf'}\n",
      "0.864 (+/-0.043) for {'C': 1, 'kernel': 'linear'}\n",
      "0.889 (+/-0.038) for {'C': 10, 'kernel': 'linear'}\n",
      "0.891 (+/-0.025) for {'C': 100, 'kernel': 'linear'}\n",
      "0.891 (+/-0.030) for {'C': 1000, 'kernel': 'linear'}\n"
     ]
    }
   ],
   "source": [
    "means = svm_clf.cv_results_['mean_test_score']\n",
    "stds = svm_clf.cv_results_['std_test_score']\n",
    "for mean, std, params in zip(means, stds, svm_clf.cv_results_['params']):\n",
    "    print(\"%0.3f (+/-%0.03f) for %r\" % (mean, std * 2, params))"
   ]
  },
  {
   "cell_type": "code",
   "execution_count": 33,
   "metadata": {
    "collapsed": true
   },
   "outputs": [],
   "source": [
    "y_pred_svm = svm_clf.predict(X_test)"
   ]
  },
  {
   "cell_type": "code",
   "execution_count": 34,
   "metadata": {},
   "outputs": [
    {
     "data": {
      "text/plain": [
       "0.89528795811518325"
      ]
     },
     "execution_count": 34,
     "metadata": {},
     "output_type": "execute_result"
    }
   ],
   "source": [
    "metrics.accuracy_score(y_test, y_pred_svm)"
   ]
  },
  {
   "cell_type": "code",
   "execution_count": 35,
   "metadata": {},
   "outputs": [
    {
     "name": "stdout",
     "output_type": "stream",
     "text": [
      "             precision    recall  f1-score   support\n",
      "\n",
      "          0       0.64      0.84      0.73        19\n",
      "          1       0.74      0.78      0.76        18\n",
      "          2       0.88      0.93      0.90        15\n",
      "          3       1.00      0.97      0.98        30\n",
      "          4       1.00      1.00      1.00        23\n",
      "          5       0.85      1.00      0.92        11\n",
      "          6       0.84      0.95      0.89        22\n",
      "          7       0.88      1.00      0.93         7\n",
      "          8       0.80      0.75      0.77        16\n",
      "          9       0.95      0.95      0.95        19\n",
      "         10       0.86      1.00      0.92        12\n",
      "         11       0.75      0.80      0.77        15\n",
      "         12       1.00      0.86      0.92        21\n",
      "         13       0.75      0.79      0.77        19\n",
      "         14       0.83      0.79      0.81        19\n",
      "         15       0.75      0.80      0.77        15\n",
      "         16       1.00      1.00      1.00        25\n",
      "         17       0.91      1.00      0.95        20\n",
      "         18       0.95      0.90      0.92        20\n",
      "         19       1.00      1.00      1.00        25\n",
      "         20       1.00      0.65      0.79        17\n",
      "         21       0.92      0.92      0.92        24\n",
      "         22       1.00      1.00      1.00        13\n",
      "         23       0.89      0.84      0.86        19\n",
      "         24       0.83      0.83      0.83        18\n",
      "         25       1.00      0.79      0.88        14\n",
      "         26       1.00      1.00      1.00        14\n",
      "         27       1.00      1.00      1.00        13\n",
      "         28       0.82      0.88      0.85        16\n",
      "         29       0.89      0.89      0.89        18\n",
      "         30       1.00      0.91      0.95        23\n",
      "         31       1.00      0.77      0.87        13\n",
      "\n",
      "avg / total       0.90      0.90      0.90       573\n",
      "\n"
     ]
    }
   ],
   "source": [
    "print(metrics.classification_report(y_test, y_pred_svm))"
   ]
  },
  {
   "cell_type": "markdown",
   "metadata": {},
   "source": [
    "<strong>Shape, Color, Texture features separated</strong>"
   ]
  },
  {
   "cell_type": "code",
   "execution_count": 95,
   "metadata": {},
   "outputs": [],
   "source": [
    "X_shape = X.iloc[:,:7]\n",
    "#X_shape\n",
    "X_color = X.iloc[:,7:13]\n",
    "#X_color\n",
    "X_texture = X.iloc[:,13:]\n",
    "#X_texture"
   ]
  },
  {
   "cell_type": "markdown",
   "metadata": {},
   "source": [
    "<strong>Train Test split</strong>"
   ]
  },
  {
   "cell_type": "code",
   "execution_count": 52,
   "metadata": {
    "collapsed": true
   },
   "outputs": [],
   "source": [
    "X_shape_train, X_shape_test, y_shape_train, y_shape_test = train_test_split(X_shape, y, test_size=0.3, random_state = 101)\n",
    "X_color_train, X_color_test, y_color_train, y_color_test = train_test_split(X_color, y, test_size=0.3, random_state = 101)\n",
    "X_texture_train, X_texture_test, y_texture_train, y_texture_test = train_test_split(X_texture, y, test_size=0.3, random_state = 101)"
   ]
  },
  {
   "cell_type": "code",
   "execution_count": 53,
   "metadata": {},
   "outputs": [
    {
     "data": {
      "text/plain": [
       "(1334, 7)"
      ]
     },
     "execution_count": 53,
     "metadata": {},
     "output_type": "execute_result"
    }
   ],
   "source": [
    "X_shape_train.shape"
   ]
  },
  {
   "cell_type": "code",
   "execution_count": 54,
   "metadata": {},
   "outputs": [
    {
     "data": {
      "text/plain": [
       "(1334, 6)"
      ]
     },
     "execution_count": 54,
     "metadata": {},
     "output_type": "execute_result"
    }
   ],
   "source": [
    "X_color_train.shape"
   ]
  },
  {
   "cell_type": "code",
   "execution_count": 55,
   "metadata": {},
   "outputs": [
    {
     "data": {
      "text/plain": [
       "(1334, 4)"
      ]
     },
     "execution_count": 55,
     "metadata": {},
     "output_type": "execute_result"
    }
   ],
   "source": [
    "X_texture_train.shape"
   ]
  },
  {
   "cell_type": "markdown",
   "metadata": {},
   "source": [
    "<strong>Feature Scaling</strong>"
   ]
  },
  {
   "cell_type": "code",
   "execution_count": 56,
   "metadata": {
    "collapsed": true
   },
   "outputs": [],
   "source": [
    "sc_X = StandardScaler()\n",
    "X_shape_train = sc_X.fit_transform(X_shape_train)\n",
    "X_shape_test = sc_X.transform(X_shape_test)\n",
    "X_color_train = sc_X.fit_transform(X_color_train)\n",
    "X_color_test = sc_X.transform(X_color_test)\n",
    "X_texture_train = sc_X.fit_transform(X_texture_train)\n",
    "X_texture_test = sc_X.transform(X_texture_test)"
   ]
  },
  {
   "cell_type": "code",
   "execution_count": 57,
   "metadata": {},
   "outputs": [
    {
     "data": {
      "text/plain": [
       "SVC(C=1.0, cache_size=200, class_weight=None, coef0=0.0,\n",
       "  decision_function_shape=None, degree=3, gamma='auto', kernel='rbf',\n",
       "  max_iter=-1, probability=False, random_state=None, shrinking=True,\n",
       "  tol=0.001, verbose=False)"
      ]
     },
     "execution_count": 57,
     "metadata": {},
     "output_type": "execute_result"
    }
   ],
   "source": [
    "clf_shape = svm.SVC()\n",
    "clf_shape.fit(X_shape_train,y_shape_train)\n",
    "clf_color = svm.SVC()\n",
    "clf_color.fit(X_color_train,y_color_train)\n",
    "clf_texture = svm.SVC()\n",
    "clf_texture.fit(X_texture_train,y_texture_train)"
   ]
  },
  {
   "cell_type": "code",
   "execution_count": 49,
   "metadata": {
    "collapsed": true
   },
   "outputs": [],
   "source": [
    "y_shape_pred = clf_shape.predict(X_shape_test)\n",
    "y_color_pred = clf_color.predict(X_color_test)\n",
    "y_texture_pred = clf_texture.predict(X_texture_test)"
   ]
  },
  {
   "cell_type": "code",
   "execution_count": 51,
   "metadata": {
    "collapsed": true
   },
   "outputs": [],
   "source": [
    "from sklearn import metrics"
   ]
  },
  {
   "cell_type": "code",
   "execution_count": 58,
   "metadata": {},
   "outputs": [
    {
     "data": {
      "text/plain": [
       "0.53228621291448519"
      ]
     },
     "execution_count": 58,
     "metadata": {},
     "output_type": "execute_result"
    }
   ],
   "source": [
    "metrics.accuracy_score(y_shape_test, y_shape_pred)"
   ]
  },
  {
   "cell_type": "code",
   "execution_count": 60,
   "metadata": {},
   "outputs": [
    {
     "data": {
      "text/plain": [
       "0.48167539267015708"
      ]
     },
     "execution_count": 60,
     "metadata": {},
     "output_type": "execute_result"
    }
   ],
   "source": [
    "metrics.accuracy_score(y_color_test, y_color_pred)"
   ]
  },
  {
   "cell_type": "code",
   "execution_count": 61,
   "metadata": {},
   "outputs": [
    {
     "data": {
      "text/plain": [
       "0.47120418848167539"
      ]
     },
     "execution_count": 61,
     "metadata": {},
     "output_type": "execute_result"
    }
   ],
   "source": [
    "metrics.accuracy_score(y_texture_test, y_texture_pred)"
   ]
  },
  {
   "cell_type": "code",
   "execution_count": 79,
   "metadata": {
    "collapsed": true
   },
   "outputs": [],
   "source": [
    "parameters = [{'kernel': ['rbf'],\n",
    "               'gamma': [1e-4, 1e-3, 0.01, 0.1, 0.2, 0.5],\n",
    "               'C': [1, 10, 100, 500, 1000, 2000]},\n",
    "              {'kernel': ['linear'], 'C': [1, 10, 100, 500, 1000, 2000]}\n",
    "             ]"
   ]
  },
  {
   "cell_type": "code",
   "execution_count": 80,
   "metadata": {
    "collapsed": true
   },
   "outputs": [],
   "source": [
    "svm_clf_shape = GridSearchCV(svm.SVC(decision_function_shape='ovr'), parameters, cv=5)\n",
    "svm_clf_color = GridSearchCV(svm.SVC(decision_function_shape='ovr'), parameters, cv=5)\n",
    "svm_clf_texture = GridSearchCV(svm.SVC(decision_function_shape='ovr'), parameters, cv=5)"
   ]
  },
  {
   "cell_type": "code",
   "execution_count": 81,
   "metadata": {},
   "outputs": [
    {
     "data": {
      "text/plain": [
       "GridSearchCV(cv=5, error_score='raise',\n",
       "       estimator=SVC(C=1.0, cache_size=200, class_weight=None, coef0=0.0,\n",
       "  decision_function_shape='ovr', degree=3, gamma='auto', kernel='rbf',\n",
       "  max_iter=-1, probability=False, random_state=None, shrinking=True,\n",
       "  tol=0.001, verbose=False),\n",
       "       fit_params={}, iid=True, n_jobs=1,\n",
       "       param_grid=[{'kernel': ['rbf'], 'gamma': [0.0001, 0.001, 0.01, 0.1, 0.2, 0.5], 'C': [1, 10, 100, 500, 1000, 2000]}, {'kernel': ['linear'], 'C': [1, 10, 100, 500, 1000, 2000]}],\n",
       "       pre_dispatch='2*n_jobs', refit=True, return_train_score=True,\n",
       "       scoring=None, verbose=0)"
      ]
     },
     "execution_count": 81,
     "metadata": {},
     "output_type": "execute_result"
    }
   ],
   "source": [
    "svm_clf_shape.fit(X_shape_train, y_shape_train)\n",
    "svm_clf_color.fit(X_color_train, y_color_train)\n",
    "svm_clf_texture.fit(X_texture_train, y_texture_train)"
   ]
  },
  {
   "cell_type": "code",
   "execution_count": 82,
   "metadata": {},
   "outputs": [
    {
     "name": "stdout",
     "output_type": "stream",
     "text": [
      "Shape: {'C': 500, 'gamma': 0.1, 'kernel': 'rbf'}\n",
      "Color: {'C': 2000, 'kernel': 'linear'}\n",
      "Texture: {'C': 2000, 'gamma': 0.1, 'kernel': 'rbf'}\n"
     ]
    }
   ],
   "source": [
    "print(\"Shape:\",svm_clf_shape.best_params_)\n",
    "print(\"Color:\",svm_clf_color.best_params_)\n",
    "print(\"Texture:\",svm_clf_texture.best_params_)"
   ]
  },
  {
   "cell_type": "code",
   "execution_count": 83,
   "metadata": {
    "collapsed": true
   },
   "outputs": [],
   "source": [
    "y_shape_pred_svm = svm_clf_shape.predict(X_shape_test)\n",
    "y_color_pred_svm = svm_clf_color.predict(X_color_test)\n",
    "y_texture_pred_svm = svm_clf_texture.predict(X_texture_test)"
   ]
  },
  {
   "cell_type": "code",
   "execution_count": 84,
   "metadata": {},
   "outputs": [
    {
     "data": {
      "text/plain": [
       "0.70855148342059338"
      ]
     },
     "execution_count": 84,
     "metadata": {},
     "output_type": "execute_result"
    }
   ],
   "source": [
    "metrics.accuracy_score(y_shape_test, y_shape_pred_svm)"
   ]
  },
  {
   "cell_type": "code",
   "execution_count": 85,
   "metadata": {},
   "outputs": [
    {
     "data": {
      "text/plain": [
       "0.7364746945898778"
      ]
     },
     "execution_count": 85,
     "metadata": {},
     "output_type": "execute_result"
    }
   ],
   "source": [
    "metrics.accuracy_score(y_color_test, y_color_pred_svm)"
   ]
  },
  {
   "cell_type": "code",
   "execution_count": 86,
   "metadata": {},
   "outputs": [
    {
     "data": {
      "text/plain": [
       "0.66666666666666663"
      ]
     },
     "execution_count": 86,
     "metadata": {},
     "output_type": "execute_result"
    }
   ],
   "source": [
    "metrics.accuracy_score(y_texture_test, y_texture_pred_svm)"
   ]
  },
  {
   "cell_type": "markdown",
   "metadata": {},
   "source": [
    "<strong>Shape-Color, Color-Texture, Texture-Shape seperated</strong>"
   ]
  },
  {
   "cell_type": "code",
   "execution_count": 94,
   "metadata": {},
   "outputs": [],
   "source": [
    "X_s_c = X.iloc[:,:13]\n",
    "#X_s_c\n",
    "X_c_t = X.iloc[:,7:]\n",
    "#X_c_t\n",
    "X_t_s = X.iloc[:,[0,1,2,3,4,5,6,13,14,15,16]]\n",
    "#X_t_s"
   ]
  },
  {
   "cell_type": "code",
   "execution_count": 96,
   "metadata": {
    "collapsed": true
   },
   "outputs": [],
   "source": [
    "X_s_c_train, X_s_c_test, y_s_c_train, y_s_c_test = train_test_split(X_s_c, y, test_size=0.3, random_state = 101)\n",
    "X_c_t_train, X_c_t_test, y_c_t_train, y_c_t_test = train_test_split(X_c_t, y, test_size=0.3, random_state = 101)\n",
    "X_t_s_train, X_t_s_test, y_t_s_train, y_t_s_test = train_test_split(X_t_s, y, test_size=0.3, random_state = 101)"
   ]
  },
  {
   "cell_type": "code",
   "execution_count": 97,
   "metadata": {},
   "outputs": [
    {
     "data": {
      "text/plain": [
       "(1334, 13)"
      ]
     },
     "execution_count": 97,
     "metadata": {},
     "output_type": "execute_result"
    }
   ],
   "source": [
    "X_s_c_train.shape"
   ]
  },
  {
   "cell_type": "code",
   "execution_count": 98,
   "metadata": {},
   "outputs": [
    {
     "data": {
      "text/plain": [
       "(1334, 10)"
      ]
     },
     "execution_count": 98,
     "metadata": {},
     "output_type": "execute_result"
    }
   ],
   "source": [
    "X_c_t_train.shape"
   ]
  },
  {
   "cell_type": "code",
   "execution_count": 99,
   "metadata": {},
   "outputs": [
    {
     "data": {
      "text/plain": [
       "(1334, 11)"
      ]
     },
     "execution_count": 99,
     "metadata": {},
     "output_type": "execute_result"
    }
   ],
   "source": [
    "X_t_s_train.shape"
   ]
  },
  {
   "cell_type": "markdown",
   "metadata": {},
   "source": [
    "<strong>Feature scaling</strong>"
   ]
  },
  {
   "cell_type": "code",
   "execution_count": 100,
   "metadata": {
    "collapsed": true
   },
   "outputs": [],
   "source": [
    "sc_X = StandardScaler()\n",
    "X_s_c_train = sc_X.fit_transform(X_s_c_train)\n",
    "X_s_c_test = sc_X.transform(X_s_c_test)\n",
    "X_c_t_train = sc_X.fit_transform(X_c_t_train)\n",
    "X_c_t_test = sc_X.transform(X_c_t_test)\n",
    "X_t_s_train = sc_X.fit_transform(X_t_s_train)\n",
    "X_t_s_test = sc_X.transform(X_t_s_test)"
   ]
  },
  {
   "cell_type": "code",
   "execution_count": 101,
   "metadata": {},
   "outputs": [
    {
     "data": {
      "text/plain": [
       "SVC(C=1.0, cache_size=200, class_weight=None, coef0=0.0,\n",
       "  decision_function_shape=None, degree=3, gamma='auto', kernel='rbf',\n",
       "  max_iter=-1, probability=False, random_state=None, shrinking=True,\n",
       "  tol=0.001, verbose=False)"
      ]
     },
     "execution_count": 101,
     "metadata": {},
     "output_type": "execute_result"
    }
   ],
   "source": [
    "clf_s_c = svm.SVC()\n",
    "clf_s_c.fit(X_s_c_train,y_s_c_train)\n",
    "clf_c_t = svm.SVC()\n",
    "clf_c_t.fit(X_c_t_train,y_c_t_train)\n",
    "clf_t_s = svm.SVC()\n",
    "clf_t_s.fit(X_t_s_train,y_t_s_train)"
   ]
  },
  {
   "cell_type": "code",
   "execution_count": 102,
   "metadata": {
    "collapsed": true
   },
   "outputs": [],
   "source": [
    "y_s_c_pred = clf_s_c.predict(X_s_c_test)\n",
    "y_c_t_pred = clf_c_t.predict(X_c_t_test)\n",
    "y_t_s_pred = clf_t_s.predict(X_t_s_test)"
   ]
  },
  {
   "cell_type": "code",
   "execution_count": 103,
   "metadata": {},
   "outputs": [
    {
     "data": {
      "text/plain": [
       "0.71378708551483416"
      ]
     },
     "execution_count": 103,
     "metadata": {},
     "output_type": "execute_result"
    }
   ],
   "source": [
    "metrics.accuracy_score(y_s_c_test, y_s_c_pred)"
   ]
  },
  {
   "cell_type": "code",
   "execution_count": 104,
   "metadata": {},
   "outputs": [
    {
     "data": {
      "text/plain": [
       "0.64572425828970337"
      ]
     },
     "execution_count": 104,
     "metadata": {},
     "output_type": "execute_result"
    }
   ],
   "source": [
    "metrics.accuracy_score(y_c_t_test, y_c_t_pred)"
   ]
  },
  {
   "cell_type": "code",
   "execution_count": 105,
   "metadata": {},
   "outputs": [
    {
     "data": {
      "text/plain": [
       "0.72076788830715532"
      ]
     },
     "execution_count": 105,
     "metadata": {},
     "output_type": "execute_result"
    }
   ],
   "source": [
    "metrics.accuracy_score(y_t_s_test, y_t_s_pred)"
   ]
  },
  {
   "cell_type": "code",
   "execution_count": 106,
   "metadata": {
    "collapsed": true
   },
   "outputs": [],
   "source": [
    "parameters = [{'kernel': ['rbf'],\n",
    "               'gamma': [1e-4, 1e-3, 0.01, 0.1, 0.2, 0.5],\n",
    "               'C': [1, 10, 100, 500, 1000, 2000]},\n",
    "              {'kernel': ['linear'], 'C': [1, 10, 100, 500, 1000, 2000]}\n",
    "             ]"
   ]
  },
  {
   "cell_type": "code",
   "execution_count": 107,
   "metadata": {
    "collapsed": true
   },
   "outputs": [],
   "source": [
    "svm_clf_s_c = GridSearchCV(svm.SVC(decision_function_shape='ovr'), parameters, cv=5)\n",
    "svm_clf_c_t = GridSearchCV(svm.SVC(decision_function_shape='ovr'), parameters, cv=5)\n",
    "svm_clf_t_s = GridSearchCV(svm.SVC(decision_function_shape='ovr'), parameters, cv=5)"
   ]
  },
  {
   "cell_type": "code",
   "execution_count": 108,
   "metadata": {},
   "outputs": [
    {
     "data": {
      "text/plain": [
       "GridSearchCV(cv=5, error_score='raise',\n",
       "       estimator=SVC(C=1.0, cache_size=200, class_weight=None, coef0=0.0,\n",
       "  decision_function_shape='ovr', degree=3, gamma='auto', kernel='rbf',\n",
       "  max_iter=-1, probability=False, random_state=None, shrinking=True,\n",
       "  tol=0.001, verbose=False),\n",
       "       fit_params={}, iid=True, n_jobs=1,\n",
       "       param_grid=[{'kernel': ['rbf'], 'gamma': [0.0001, 0.001, 0.01, 0.1, 0.2, 0.5], 'C': [1, 10, 100, 500, 1000, 2000]}, {'kernel': ['linear'], 'C': [1, 10, 100, 500, 1000, 2000]}],\n",
       "       pre_dispatch='2*n_jobs', refit=True, return_train_score=True,\n",
       "       scoring=None, verbose=0)"
      ]
     },
     "execution_count": 108,
     "metadata": {},
     "output_type": "execute_result"
    }
   ],
   "source": [
    "svm_clf_s_c.fit(X_s_c_train, y_s_c_train)\n",
    "svm_clf_c_t.fit(X_c_t_train, y_c_t_train)\n",
    "svm_clf_t_s.fit(X_t_s_train, y_t_s_train)"
   ]
  },
  {
   "cell_type": "code",
   "execution_count": 109,
   "metadata": {},
   "outputs": [
    {
     "name": "stdout",
     "output_type": "stream",
     "text": [
      "Shape-Color: {'C': 2000, 'gamma': 0.01, 'kernel': 'rbf'}\n",
      "Color-Texture: {'C': 1000, 'kernel': 'linear'}\n",
      "Texture-Shape: {'C': 500, 'kernel': 'linear'}\n"
     ]
    }
   ],
   "source": [
    "print(\"Shape-Color:\",svm_clf_s_c.best_params_)\n",
    "print(\"Color-Texture:\",svm_clf_c_t.best_params_)\n",
    "print(\"Texture-Shape:\",svm_clf_t_s.best_params_)"
   ]
  },
  {
   "cell_type": "code",
   "execution_count": 110,
   "metadata": {
    "collapsed": true
   },
   "outputs": [],
   "source": [
    "y_s_c_pred_svm = svm_clf_s_c.predict(X_s_c_test)\n",
    "y_c_t_pred_svm = svm_clf_c_t.predict(X_c_t_test)\n",
    "y_t_s_pred_svm = svm_clf_t_s.predict(X_t_s_test)"
   ]
  },
  {
   "cell_type": "code",
   "execution_count": 111,
   "metadata": {},
   "outputs": [
    {
     "data": {
      "text/plain": [
       "0.86910994764397909"
      ]
     },
     "execution_count": 111,
     "metadata": {},
     "output_type": "execute_result"
    }
   ],
   "source": [
    "metrics.accuracy_score(y_s_c_test, y_s_c_pred_svm)"
   ]
  },
  {
   "cell_type": "code",
   "execution_count": 112,
   "metadata": {},
   "outputs": [
    {
     "data": {
      "text/plain": [
       "0.84816753926701571"
      ]
     },
     "execution_count": 112,
     "metadata": {},
     "output_type": "execute_result"
    }
   ],
   "source": [
    "metrics.accuracy_score(y_c_t_test, y_c_t_pred_svm)"
   ]
  },
  {
   "cell_type": "code",
   "execution_count": 113,
   "metadata": {},
   "outputs": [
    {
     "data": {
      "text/plain": [
       "0.89005235602094246"
      ]
     },
     "execution_count": 113,
     "metadata": {},
     "output_type": "execute_result"
    }
   ],
   "source": [
    "metrics.accuracy_score(y_t_s_test, y_t_s_pred_svm)"
   ]
  },
  {
   "cell_type": "markdown",
   "metadata": {},
   "source": [
    "<strong>Iterating over many possible feature combination</strong>"
   ]
  },
  {
   "cell_type": "code",
   "execution_count": 114,
   "metadata": {
    "collapsed": true
   },
   "outputs": [],
   "source": [
    "from itertools import combinations"
   ]
  },
  {
   "cell_type": "code",
   "execution_count": 115,
   "metadata": {
    "collapsed": true
   },
   "outputs": [],
   "source": [
    "index_list = [0,1,2,3,4,5,6,7,8,9,10,11,12,13,14,15,16]"
   ]
  },
  {
   "cell_type": "code",
   "execution_count": 129,
   "metadata": {
    "collapsed": true
   },
   "outputs": [],
   "source": [
    "parameters = [{'kernel': ['rbf'],\n",
    "               'gamma': [1e-4, 1e-3, 0.01, 0.1, 0.2, 0.5],\n",
    "               'C': [1, 10, 100, 1000]},\n",
    "              {'kernel': ['linear'], 'C': [1, 10, 100, 1000]}\n",
    "             ]"
   ]
  },
  {
   "cell_type": "code",
   "execution_count": 161,
   "metadata": {
    "collapsed": true
   },
   "outputs": [],
   "source": [
    "def compute_accuracy(X,y,k):\n",
    "    #acc_dict = {}\n",
    "    acc_k = []\n",
    "    comb = combinations(index_list,k)\n",
    "    count = 1\n",
    "    for c in comb:\n",
    "        subset_acc = []\n",
    "        c = list(c)\n",
    "        X_comb = X.iloc[:,c]\n",
    "        subset = [x for x in X_comb.columns]\n",
    "        subset_acc.append(subset)\n",
    "\n",
    "        X_comb_train, X_comb_test, y_comb_train, y_comb_test = train_test_split(X_comb, y, test_size=0.3, random_state = 101)\n",
    "\n",
    "        sc_X = StandardScaler()\n",
    "        X_comb_train = sc_X.fit_transform(X_comb_train)\n",
    "        X_comb_test = sc_X.transform(X_comb_test)\n",
    "\n",
    "        #svm_clf_comb = GridSearchCV(svm.SVC(decision_function_shape='ovr'), parameters, cv=5)\n",
    "        #svm_clf_comb.fit(X_comb_train, y_comb_train)\n",
    "\n",
    "        #y_comb_pred_svm = svm_clf_comb.predict(X_comb_test)\n",
    "        #subset_acc.append(metrics.accuracy_score(y_comb_test, y_comb_pred_svm))\n",
    "        clf = svm.SVC(C=1000, kernel='linear')\n",
    "        clf.fit(X_comb_train,y_comb_train)\n",
    "        y_comb_pred = clf.predict(X_comb_test)\n",
    "        subset_acc.append(metrics.accuracy_score(y_comb_test, y_comb_pred))\n",
    "\n",
    "        acc_k.append(subset_acc)\n",
    "        print(count)\n",
    "        count+=1\n",
    "        #print(subset)\n",
    "        #acc_dict[k] = acc_length\n",
    "    return acc_k\n",
    "        \n",
    "        "
   ]
  },
  {
   "cell_type": "code",
   "execution_count": 162,
   "metadata": {},
   "outputs": [
    {
     "name": "stdout",
     "output_type": "stream",
     "text": [
      "1\n",
      "2\n",
      "3\n",
      "4\n",
      "5\n",
      "6\n",
      "7\n",
      "8\n",
      "9\n",
      "10\n",
      "11\n",
      "12\n",
      "13\n",
      "14\n",
      "15\n",
      "16\n",
      "17\n",
      "18\n",
      "19\n",
      "20\n",
      "21\n",
      "22\n",
      "23\n",
      "24\n",
      "25\n",
      "26\n",
      "27\n",
      "28\n",
      "29\n",
      "30\n",
      "31\n",
      "32\n",
      "33\n",
      "34\n",
      "35\n",
      "36\n",
      "37\n",
      "38\n",
      "39\n",
      "40\n",
      "41\n",
      "42\n",
      "43\n",
      "44\n",
      "45\n",
      "46\n",
      "47\n",
      "48\n",
      "49\n",
      "50\n",
      "51\n",
      "52\n",
      "53\n",
      "54\n",
      "55\n",
      "56\n",
      "57\n",
      "58\n",
      "59\n",
      "60\n",
      "61\n",
      "62\n",
      "63\n",
      "64\n",
      "65\n",
      "66\n",
      "67\n",
      "68\n",
      "69\n",
      "70\n",
      "71\n",
      "72\n",
      "73\n",
      "74\n",
      "75\n",
      "76\n",
      "77\n",
      "78\n",
      "79\n",
      "80\n",
      "81\n",
      "82\n",
      "83\n",
      "84\n",
      "85\n",
      "86\n",
      "87\n",
      "88\n",
      "89\n",
      "90\n",
      "91\n",
      "92\n",
      "93\n",
      "94\n",
      "95\n",
      "96\n",
      "97\n",
      "98\n",
      "99\n",
      "100\n",
      "101\n",
      "102\n",
      "103\n",
      "104\n",
      "105\n",
      "106\n",
      "107\n",
      "108\n",
      "109\n",
      "110\n",
      "111\n",
      "112\n",
      "113\n",
      "114\n",
      "115\n",
      "116\n",
      "117\n",
      "118\n",
      "119\n",
      "120\n",
      "121\n",
      "122\n",
      "123\n",
      "124\n",
      "125\n",
      "126\n",
      "127\n",
      "128\n",
      "129\n",
      "130\n",
      "131\n",
      "132\n",
      "133\n",
      "134\n",
      "135\n",
      "136\n"
     ]
    }
   ],
   "source": [
    "comb_acc_list_15 = compute_accuracy(X,y,15) #replace k by length"
   ]
  },
  {
   "cell_type": "code",
   "execution_count": 159,
   "metadata": {},
   "outputs": [
    {
     "data": {
      "text/plain": [
       "'for key,value in comb_acc_dict.items():\\n    for i in value:\\n        print(i[-1])'"
      ]
     },
     "execution_count": 159,
     "metadata": {},
     "output_type": "execute_result"
    }
   ],
   "source": [
    "\"\"\"for key,value in comb_acc_dict.items():\n",
    "    for i in value:\n",
    "        print(i[-1])\"\"\""
   ]
  },
  {
   "cell_type": "code",
   "execution_count": 163,
   "metadata": {},
   "outputs": [
    {
     "name": "stdout",
     "output_type": "stream",
     "text": [
      "0.884816753927\n",
      "0.897033158813\n",
      "0.874345549738\n",
      "0.891797556719\n",
      "0.886561954625\n",
      "0.874345549738\n",
      "0.898778359511\n",
      "0.888307155323\n",
      "0.895287958115\n",
      "0.891797556719\n",
      "0.888307155323\n",
      "0.883071553229\n",
      "0.888307155323\n",
      "0.893542757417\n",
      "0.895287958115\n",
      "0.891797556719\n",
      "0.891797556719\n",
      "0.898778359511\n",
      "0.886561954625\n",
      "0.886561954625\n",
      "0.895287958115\n",
      "0.877835951134\n",
      "0.879581151832\n",
      "0.888307155323\n",
      "0.883071553229\n",
      "0.884816753927\n",
      "0.890052356021\n",
      "0.888307155323\n",
      "0.891797556719\n",
      "0.886561954625\n",
      "0.888307155323\n",
      "0.895287958115\n",
      "0.895287958115\n",
      "0.891797556719\n",
      "0.900523560209\n",
      "0.890052356021\n",
      "0.884816753927\n",
      "0.881326352531\n",
      "0.891797556719\n",
      "0.891797556719\n",
      "0.884816753927\n",
      "0.898778359511\n",
      "0.897033158813\n",
      "0.886561954625\n",
      "0.895287958115\n",
      "0.895287958115\n",
      "0.898778359511\n",
      "0.895287958115\n",
      "0.890052356021\n",
      "0.893542757417\n",
      "0.891797556719\n",
      "0.898778359511\n",
      "0.895287958115\n",
      "0.900523560209\n",
      "0.895287958115\n",
      "0.890052356021\n",
      "0.895287958115\n",
      "0.898778359511\n",
      "0.891797556719\n",
      "0.893542757417\n",
      "0.893542757417\n",
      "0.898778359511\n",
      "0.890052356021\n",
      "0.900523560209\n",
      "0.891797556719\n",
      "0.891797556719\n",
      "0.888307155323\n",
      "0.898778359511\n",
      "0.897033158813\n",
      "0.886561954625\n",
      "0.900523560209\n",
      "0.904013961606\n",
      "0.891797556719\n",
      "0.902268760908\n",
      "0.905759162304\n",
      "0.900523560209\n",
      "0.891797556719\n",
      "0.895287958115\n",
      "0.893542757417\n",
      "0.884816753927\n",
      "0.898778359511\n",
      "0.884816753927\n",
      "0.893542757417\n",
      "0.904013961606\n",
      "0.895287958115\n",
      "0.888307155323\n",
      "0.900523560209\n",
      "0.893542757417\n",
      "0.898778359511\n",
      "0.900523560209\n",
      "0.916230366492\n",
      "0.893542757417\n",
      "0.891797556719\n",
      "0.886561954625\n",
      "0.893542757417\n",
      "0.890052356021\n",
      "0.898778359511\n",
      "0.897033158813\n",
      "0.888307155323\n",
      "0.898778359511\n",
      "0.890052356021\n",
      "0.893542757417\n",
      "0.890052356021\n",
      "0.905759162304\n",
      "0.891797556719\n",
      "0.881326352531\n",
      "0.870855148342\n",
      "0.865619546248\n",
      "0.874345549738\n",
      "0.883071553229\n",
      "0.881326352531\n",
      "0.879581151832\n",
      "0.877835951134\n",
      "0.884816753927\n",
      "0.874345549738\n",
      "0.877835951134\n",
      "0.877835951134\n",
      "0.898778359511\n",
      "0.890052356021\n",
      "0.888307155323\n",
      "0.886561954625\n",
      "0.886561954625\n",
      "0.877835951134\n",
      "0.884816753927\n",
      "0.898778359511\n",
      "0.895287958115\n",
      "0.893542757417\n",
      "0.890052356021\n",
      "0.890052356021\n",
      "0.879581151832\n",
      "0.895287958115\n",
      "0.893542757417\n",
      "0.898778359511\n",
      "0.890052356021\n",
      "0.890052356021\n",
      "0.870855148342\n"
     ]
    }
   ],
   "source": [
    "for i in comb_acc_list_15:\n",
    "    print(i[-1])"
   ]
  },
  {
   "cell_type": "code",
   "execution_count": null,
   "metadata": {
    "collapsed": true
   },
   "outputs": [],
   "source": []
  }
 ],
 "metadata": {
  "kernelspec": {
   "display_name": "Python 3",
   "language": "python",
   "name": "python3"
  },
  "language_info": {
   "codemirror_mode": {
    "name": "ipython",
    "version": 3
   },
   "file_extension": ".py",
   "mimetype": "text/x-python",
   "name": "python",
   "nbconvert_exporter": "python",
   "pygments_lexer": "ipython3",
   "version": "3.7.3"
  }
 },
 "nbformat": 4,
 "nbformat_minor": 2
}
